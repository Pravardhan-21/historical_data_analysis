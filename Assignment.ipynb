{
  "nbformat": 4,
  "nbformat_minor": 0,
  "metadata": {
    "colab": {
      "provenance": [],
      "authorship_tag": "ABX9TyN8/8BUV3mRgRC587wxWsMG",
      "include_colab_link": true
    },
    "kernelspec": {
      "name": "python3",
      "display_name": "Python 3"
    },
    "language_info": {
      "name": "python"
    }
  },
  "cells": [
    {
      "cell_type": "markdown",
      "metadata": {
        "id": "view-in-github",
        "colab_type": "text"
      },
      "source": [
        "<a href=\"https://colab.research.google.com/github/Pravardhan-21/historical_data_analysis/blob/main/Assignment.ipynb\" target=\"_parent\"><img src=\"https://colab.research.google.com/assets/colab-badge.svg\" alt=\"Open In Colab\"/></a>"
      ]
    },
    {
      "cell_type": "markdown",
      "source": [
        "#Import Libraries and paths"
      ],
      "metadata": {
        "id": "OVUHfeYK05u-"
      }
    },
    {
      "cell_type": "code",
      "execution_count": null,
      "metadata": {
        "id": "iq8gfPvPqaFJ"
      },
      "outputs": [],
      "source": [
        "import os\n",
        "import pandas as pd\n",
        "import numpy as np\n",
        "from datetime import timedelta\n",
        "import matplotlib.pyplot as plt\n",
        "from sklearn.cluster import KMeans\n",
        "from sklearn.preprocessing import StandardScaler\n",
        "from sklearn.linear_model import LogisticRegression\n",
        "from sklearn.model_selection import train_test_split\n",
        "from sklearn.metrics import roc_auc_score, accuracy_score, confusion_matrix\n",
        "import statsmodels.api as sm\n",
        "HIST_PATH=\"/content/historical_data.csv\"\n",
        "FG_PATH=\"/content/fear_greed_index.csv\"\n",
        "OUTPUT_DIR=\"/content/output\"\n",
        "MAX_LAG_DAYS=5\n",
        "ROLLING_WINDOW=30\n",
        "os.makedirs(OUTPUT_DIR,exist_ok=True)\n"
      ]
    },
    {
      "cell_type": "markdown",
      "source": [
        "#Utility functions"
      ],
      "metadata": {
        "id": "5XBdYoyw1IHm"
      }
    },
    {
      "cell_type": "code",
      "source": [
        "def find_first(cols, candidates):\n",
        "    for c in candidates:\n",
        "        if c in cols:\n",
        "            return c\n",
        "    return None\n",
        "def safe_read_csv(path):\n",
        "    return pd.read_csv(path)"
      ],
      "metadata": {
        "id": "raUcI4p-xyZu"
      },
      "execution_count": null,
      "outputs": []
    },
    {
      "cell_type": "markdown",
      "source": [
        "#Load Data and Detect Columns"
      ],
      "metadata": {
        "id": "i4RLwYmg1NMe"
      }
    },
    {
      "cell_type": "code",
      "source": [
        "#Load both files\n",
        "hist=safe_read_csv(HIST_PATH)\n",
        "fg=safe_read_csv(FG_PATH)\n",
        "#Clean column names\n",
        "hist.columns=[c.strip() for c in hist.columns]\n",
        "fg.columns=[c.strip() for c in fg.columns]\n",
        "#Identify columns\n",
        "date_col=find_first(hist.columns,['Timestamp IST','Timestamp','Date','date'])\n",
        "trader_col=find_first(hist.columns,['Account','trader_id','account'])\n",
        "pnl_col= find_first(hist.columns,['Closed PnL','PnL','pnl'])\n",
        "size_col=find_first(hist.columns,['Size USD','size_usd','notional'])\n",
        "price_cols=[c for c in hist.columns if 'price' in c.lower()]\n",
        "print(\"Detected -> date:\",date_col,\"| trader:\",trader_col,\" pnl:\",pnl_col,\" size:\",size_col)\n"
      ],
      "metadata": {
        "colab": {
          "base_uri": "https://localhost:8080/"
        },
        "id": "cEJokCEJx5vj",
        "outputId": "40049caf-7a42-42f9-c379-4eb21b9f9dbc"
      },
      "execution_count": null,
      "outputs": [
        {
          "output_type": "stream",
          "name": "stdout",
          "text": [
            "Detected -> date: Timestamp IST | trader: Account  pnl: Closed PnL  size: Size USD\n"
          ]
        }
      ]
    },
    {
      "cell_type": "markdown",
      "source": [
        "#Compute Trade Returns"
      ],
      "metadata": {
        "id": "a-GIRbiG5NOx"
      }
    },
    {
      "cell_type": "code",
      "source": [
        "# Parse dates\n",
        "hist['date']=pd.to_datetime(hist[date_col],errors='coerce').dt.normalize()\n",
        "# Compute per-trade return\n",
        "if pnl_col and size_col:\n",
        "    hist['trade_return']=hist[pnl_col]/hist[size_col].replace({0: np.nan})\n",
        "elif pnl_col:\n",
        "    hist['trade_return']=hist[pnl_col]\n",
        "elif len(price_cols)>=2:\n",
        "    hist['trade_return']=(hist[price_cols[1]]-hist[price_cols[0]])/hist[price_cols[0]]\n",
        "else:\n",
        "    raise RuntimeError(\"No pnl/size or price columns available\")\n",
        "hist=hist.dropna(subset=['date']).reset_index(drop=True)"
      ],
      "metadata": {
        "id": "L-z5rgct00m7"
      },
      "execution_count": null,
      "outputs": []
    },
    {
      "cell_type": "markdown",
      "source": [
        "#Per-Trader Summary"
      ],
      "metadata": {
        "id": "rdNszG1I5kai"
      }
    },
    {
      "cell_type": "code",
      "source": [
        "if trader_col:\n",
        "    grouped=hist.groupby(trader_col)\n",
        "    per_trader=pd.DataFrame({\n",
        "        trader_col:grouped.size().index,\n",
        "        'trades':grouped.size().values,\n",
        "        'total_pnl':grouped[pnl_col].sum() if pnl_col else np.nan,\n",
        "        'avg_return':grouped['trade_return'].mean().values,\n",
        "        'median_return':grouped['trade_return'].median().values,\n",
        "        'std_return':grouped['trade_return'].std().values,\n",
        "        'win_rate':grouped['trade_return'].apply(lambda s: (s>0).mean()).values\n",
        "    })\n",
        "    per_trader['sharpe_like']=per_trader['avg_return']/per_trader['std_return'].replace({0: np.nan})\n",
        "    per_trader.to_csv(os.path.join(OUTPUT_DIR,\"per_trader_summary.csv\"),index=False)\n",
        "    print(\"per_trader_summary.csv saved\")\n"
      ],
      "metadata": {
        "colab": {
          "base_uri": "https://localhost:8080/"
        },
        "id": "cgFY8R_15qt7",
        "outputId": "37549fd7-1d5d-4489-d760-6e0e8becbb79"
      },
      "execution_count": null,
      "outputs": [
        {
          "output_type": "stream",
          "name": "stdout",
          "text": [
            "per_trader_summary.csv saved\n"
          ]
        }
      ]
    },
    {
      "cell_type": "markdown",
      "source": [
        "#Prepare Sentiment Data"
      ],
      "metadata": {
        "id": "a6JZi0yE6J06"
      }
    },
    {
      "cell_type": "code",
      "source": [
        "fg_date_col=find_first(fg.columns,['date','Date','Timestamp'])\n",
        "fg['date']=pd.to_datetime(fg[fg_date_col],errors='coerce').dt.normalize()\n",
        "#pick sentiment column\n",
        "numeric_cols=fg.select_dtypes(include=[np.number]).columns.tolist()\n",
        "sentiment_col=numeric_cols[0] if len(numeric_cols)>0 else fg.columns[1]\n",
        "fg2=fg[['date',sentiment_col]].rename(columns={sentiment_col:'sentiment'}).dropna().drop_duplicates()\n",
        "full_dates=pd.DataFrame({'date':pd.date_range(fg2['date'].min(),fg2['date'].max(),freq='D')})\n",
        "fg_daily=full_dates.merge(fg2,on='date',how='left').sort_values('date')\n",
        "fg_daily['sentiment']=fg_daily['sentiment'].ffill().bfill()"
      ],
      "metadata": {
        "id": "7O5W2c-R6OKs"
      },
      "execution_count": null,
      "outputs": []
    },
    {
      "cell_type": "markdown",
      "source": [
        "#Daily Aggregates and Merge"
      ],
      "metadata": {
        "id": "VBPWcXdV6n96"
      }
    },
    {
      "cell_type": "code",
      "source": [
        "daily=hist.groupby('date').agg(\n",
        "    daily_ret_mean=('trade_return','mean'),\n",
        "    daily_ret_sum=('trade_return','sum'),\n",
        "    trades=('trade_return','count')\n",
        ").reset_index()\n",
        "merged=pd.merge(daily,fg_daily,on='date',how='left').sort_values('date')\n",
        "merged['sentiment']=merged['sentiment'].ffill().bfill()\n",
        "merged.to_csv(os.path.join(OUTPUT_DIR,\"merged_daily_sentiment_returns.csv\"),index=False)\n",
        "print(\"merged_daily_sentiment_returns.csv saved\")\n"
      ],
      "metadata": {
        "colab": {
          "base_uri": "https://localhost:8080/"
        },
        "id": "yJHCVLXB6kEh",
        "outputId": "04abdf2d-416c-4031-ae3d-ae9c8524e823"
      },
      "execution_count": null,
      "outputs": [
        {
          "output_type": "stream",
          "name": "stdout",
          "text": [
            "merged_daily_sentiment_returns.csv saved\n"
          ]
        }
      ]
    },
    {
      "cell_type": "markdown",
      "source": [
        "#Lagged and Rolling Correlations"
      ],
      "metadata": {
        "id": "oNKcKzAs8ZZu"
      }
    },
    {
      "cell_type": "code",
      "source": [
        "lag_results=[]\n",
        "for lag in range(0, MAX_LAG_DAYS+1):\n",
        "    merged[f'sent_lag_{lag}']=merged['sentiment'].shift(lag)\n",
        "    valid=merged.dropna(subset=[f'sent_lag_{lag}','daily_ret_mean'])\n",
        "    corr=valid['daily_ret_mean'].corr(valid[f'sent_lag_{lag}'])\n",
        "    lag_results.append({'lag_days':lag,'corr':corr})\n",
        "lag_df=pd.DataFrame(lag_results)\n",
        "lag_df.to_csv(os.path.join(OUTPUT_DIR,\"lagged_correlations.csv\"),index=False)\n",
        "# rolling correlation plot\n",
        "merged['rolling_corr']=merged['daily_ret_mean'].rolling(window=ROLLING_WINDOW,min_periods=10).corr(merged['sentiment'])\n",
        "plt.plot(merged['date'],merged['rolling_corr'])\n",
        "plt.title(f\"{ROLLING_WINDOW}-day rolling correlation\")\n",
        "plt.savefig(os.path.join(OUTPUT_DIR,\"rolling_corr.png\"));\n",
        "plt.close()"
      ],
      "metadata": {
        "id": "BffRAQb265xu"
      },
      "execution_count": null,
      "outputs": []
    },
    {
      "cell_type": "markdown",
      "source": [
        "#Per-Trader Regressions"
      ],
      "metadata": {
        "id": "DnNMfwMh84nY"
      }
    },
    {
      "cell_type": "code",
      "source": [
        "if trader_col:\n",
        "    daily_trader=hist.groupby([trader_col,'date']).agg(daily_ret=('trade_return','mean')).reset_index()\n",
        "    dt=pd.merge(daily_trader,fg_daily, on='date',how='left').sort_values('date')\n",
        "    dt['sentiment']=dt['sentiment'].ffill().bfill()\n",
        "    results=[]\n",
        "    for trader,grp in dt.groupby(trader_col):\n",
        "        grp=grp.copy()\n",
        "        for lag in range(MAX_LAG_DAYS+1):\n",
        "            grp[f'sent_lag_{lag}']=grp['sentiment'].shift(lag)\n",
        "        grp=grp.dropna()\n",
        "        if len(grp)<10:continue\n",
        "        X=sm.add_constant(grp[[f'sent_lag_{l}'for l in range(MAX_LAG_DAYS+1)]])\n",
        "        y=grp['daily_ret']\n",
        "        mod=sm.OLS(y,X).fit()\n",
        "        results.append({\n",
        "            'trader':trader,\n",
        "            'coef_sent_0':mod.params.get('sent_lag_0',np.nan),\n",
        "            'pval_sent_0':mod.pvalues.get('sent_lag_0',np.nan),\n",
        "            'r2':mod.rsquared,\n",
        "            'n_obs':len(grp)\n",
        "        })\n",
        "    pd.DataFrame(results).to_csv(os.path.join(OUTPUT_DIR,\"per_trader_sentiment_regs.csv\"),index=False)\n",
        "    print(\"per_trader_sentiment_regs.csv saved\")\n"
      ],
      "metadata": {
        "colab": {
          "base_uri": "https://localhost:8080/"
        },
        "id": "cSnZ-M9S8_NC",
        "outputId": "b8aacf06-1d1d-4c59-f7ad-7c4ad86ddd23"
      },
      "execution_count": null,
      "outputs": [
        {
          "output_type": "stream",
          "name": "stdout",
          "text": [
            "per_trader_sentiment_regs.csv saved\n"
          ]
        }
      ]
    },
    {
      "cell_type": "markdown",
      "source": [
        "#Event Study on Extreme Sentiment"
      ],
      "metadata": {
        "id": "8ewgOOpo9m-d"
      }
    },
    {
      "cell_type": "code",
      "source": [
        "p_top=merged['sentiment'].quantile(0.9)\n",
        "p_bot=merged['sentiment'].quantile(0.1)\n",
        "extreme_days=merged[(merged['sentiment']>=p_top)|(merged['sentiment']<=p_bot)]\n",
        "window=3\n",
        "frames=[]\n",
        "for _,row in extreme_days.iterrows():\n",
        "    day=row['date']\n",
        "    rng=pd.date_range(day-pd.Timedelta(days=window),day+pd.Timedelta(days=window))\n",
        "    sub=merged[merged['date'].isin(rng)][['date','daily_ret_mean']].copy()\n",
        "    sub['day_offset']=(sub['date']-day).dt.days\n",
        "    sub['event_date']=day\n",
        "    sub['type']='top' if row['sentiment']>=p_top else 'bot'\n",
        "    frames.append(sub)\n",
        "events=pd.concat(frames)\n",
        "summary=events.groupby(['type','day_offset']).daily_ret_mean.mean().reset_index()\n",
        "summary.to_csv(os.path.join(OUTPUT_DIR,\"event_study_extreme_sentiment.csv\"),index=False)"
      ],
      "metadata": {
        "id": "ki5mY__69uLa"
      },
      "execution_count": null,
      "outputs": []
    },
    {
      "cell_type": "markdown",
      "source": [
        "#Clustering Traders"
      ],
      "metadata": {
        "id": "QWEAUJj1-FlI"
      }
    },
    {
      "cell_type": "code",
      "source": [
        "if trader_col:\n",
        "    feat=per_trader[['trades','avg_return','win_rate','sharpe_like']].dropna()\n",
        "    X=StandardScaler().fit_transform(feat)\n",
        "    kmeans=KMeans(n_clusters=3,random_state=42).fit(X)\n",
        "    per_trader.loc[feat.index,'cluster']=kmeans.labels_\n",
        "    per_trader.to_csv(os.path.join(OUTPUT_DIR,\"per_trader_clusters.csv\"),index=False)\n",
        "    print(\"per_trader_clusters.csv saved\")"
      ],
      "metadata": {
        "colab": {
          "base_uri": "https://localhost:8080/"
        },
        "id": "jJOwf0En-EuV",
        "outputId": "6d14719f-bcd1-4d5e-b687-4ad0ce725dfe"
      },
      "execution_count": null,
      "outputs": [
        {
          "output_type": "stream",
          "name": "stdout",
          "text": [
            "per_trader_clusters.csv saved\n"
          ]
        }
      ]
    },
    {
      "cell_type": "markdown",
      "source": [
        "#Predictive Model"
      ],
      "metadata": {
        "id": "WmdVl0Ws-SVA"
      }
    },
    {
      "cell_type": "code",
      "source": [
        "df=hist.copy()\n",
        "df['win']=(df['trade_return']>0).astype(int)\n",
        "df=pd.merge(df,fg_daily,on='date',how='left')\n",
        "df['sent_lag_1']=df['sentiment'].shift(1).fillna(df['sentiment'])\n",
        "X=df[['sentiment','sent_lag_1']].fillna(0)\n",
        "y=df['win']\n",
        "X_train,X_test,y_train,y_test=train_test_split(X,y,test_size=0.2,random_state=42,stratify=y)\n",
        "clf=LogisticRegression(max_iter=1000).fit(X_train,y_train)\n",
        "y_pred=clf.predict(X_test);\n",
        "y_prob=clf.predict_proba(X_test)[:,1]\n",
        "print(\"Accuracy:\",accuracy_score(y_test,y_pred))\n",
        "print(\"AUC:\",roc_auc_score(y_test,y_prob))"
      ],
      "metadata": {
        "colab": {
          "base_uri": "https://localhost:8080/"
        },
        "id": "m-m7OUqd-P1M",
        "outputId": "bed3e549-b398-46f2-fae5-0f4b060f3ea6"
      },
      "execution_count": null,
      "outputs": [
        {
          "output_type": "stream",
          "name": "stdout",
          "text": [
            "Accuracy: 0.5776585673714105\n",
            "AUC: 0.5050363355401556\n"
          ]
        }
      ]
    },
    {
      "cell_type": "code",
      "source": [],
      "metadata": {
        "id": "Mp5ZUNpW-r7d"
      },
      "execution_count": null,
      "outputs": []
    }
  ]
}